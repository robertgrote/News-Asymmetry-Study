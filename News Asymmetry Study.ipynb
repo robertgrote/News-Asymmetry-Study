{
 "cells": [
  {
   "cell_type": "markdown",
   "metadata": {},
   "source": [
    "# <center>Testing News Asymmetry Between Small and Large Companies</center>\n"
   ]
  },
  {
   "cell_type": "markdown",
   "metadata": {},
   "source": [
    "### <center>A sentiment analysis study by Robert Grote and Ryan Fairhurst</center>"
   ]
  },
  {
   "cell_type": "markdown",
   "metadata": {},
   "source": [
    "This is an interactive Python notebook, which requires that the user run the cells within in order to see the results. Run the cells from the top, all the way down the page by clicking on the first cell, then holding down shift or command or control (depending on whether you're on PC or Mac), then hitting enter."
   ]
  },
  {
   "cell_type": "markdown",
   "metadata": {},
   "source": [
    "Install the modules that you will need for reading in all of the data by running the following cell.    \n",
    "Uncomment the following two lines the first time you run this in order to install the necessary modules by deleting the hash symbol."
   ]
  },
  {
   "cell_type": "code",
   "execution_count": 1,
   "metadata": {
    "collapsed": true
   },
   "outputs": [],
   "source": [
    "#!pip install pandas-datareader\n",
    "#!pip install yahoo-finance"
   ]
  },
  {
   "cell_type": "markdown",
   "metadata": {},
   "source": [
    "Import the following modules:"
   ]
  },
  {
   "cell_type": "code",
   "execution_count": 2,
   "metadata": {
    "collapsed": true
   },
   "outputs": [],
   "source": [
    "import yahoo_finance as yfin\n",
    "import pandas as pd\n",
    "import pandas_datareader.data as web\n",
    "import datetime\n",
    "import csv\n",
    "import pandas_datareader.data as data\n",
    "from yahoo_finance import Share\n",
    "from pandas_datareader.yahoo.quotes import _yahoo_codes"
   ]
  },
  {
   "cell_type": "markdown",
   "metadata": {},
   "source": [
    "The basic idea is that, as companies grow in size, the relative proportion of bad news grows with respect to the amount of good news. We are interested in testing whether this is true and appears in the data, whether it differs by industry, whether there is a maximum threshold of how much bad news can be experienced by small companies, and how the proportions change by company size. In the following  prototype, we conceptualize using jumps in Google Trends data and jumps in stock price data to detect newsworthy events, and observations which will amount to the idea of linking sentiment to a company, then recording its size and several other key variables that we think will have interesting relationships with company size and sentiment."
   ]
  },
  {
   "cell_type": "code",
   "execution_count": 3,
   "metadata": {
    "collapsed": false
   },
   "outputs": [
    {
     "data": {
      "text/plain": [
       "'\\nDefining a Jump\\nWhen an event happens\\nPositive/Negative Event\\nPositive/Negative interest\\n'"
      ]
     },
     "execution_count": 3,
     "metadata": {},
     "output_type": "execute_result"
    }
   ],
   "source": [
    "#'Jumps' in data--a place for our ideas\n",
    "\"\"\"\n",
    "Defining a Jump\n",
    "When an event happens\n",
    "Positive/Negative Event\n",
    "Positive/Negative interest\n",
    "\"\"\"\n",
    "#trends-->prices\n",
    "#prices-->trends\n",
    "#volume-->prices\n",
    "\n",
    "\n",
    "#Jump Program: Percentage change--not dollar change\n",
    "#Different times (Stamp when, magnitude, duration, direction)\n",
    "#--make a program that measures relatively, not absolutely (percentages, not dollars)\n",
    "#Sustained vs transient growth\n",
    "\n",
    "#Jumps:\n",
    "#1: Identify Jumps\n",
    "#2:Categorize comparable categories\n",
    "##Compare news profiles (trends)\n",
    "##Compare\n",
    "\n",
    "#Var Types:\n",
    "#C-Continuous\n",
    "#S-Scalar\n",
    "#B-Binary (Dummy)\n",
    "#P-Percentage change\n",
    "#R-Rate of change\n",
    "#D-Discreet--qualitative\n",
    "#Z-Z Score\n",
    "#T-Time\n",
    "\n",
    "#Create a new dataset of jump observations\n",
    "###Categories###\n",
    "#*0: Company Name/Ticker Symbol\n",
    "#1:S Size of company (Market cap pre- and post-jump)\n",
    "#*2:B Direction (+/-, good/bad news)\n",
    "#*3:S Time: Does this relationship between news and jumps change in different market conditions?\n",
    "#4:B Period (Does the relationship between news and jumps change in different market conditions (recession, recovery))\n",
    "###Possibly just use S&P 500 or define broad market categories\n",
    "#*4:P Magnitude (percent change in price from before jump until after jump)\n",
    "#5:R Rate of change (magnitude/time)\n",
    "#6:D Industry (do different industries behave differently)\n",
    "#7:B Sustainability-do prices return to pre-jump level (separate test)\n",
    "#8: Accompanying Google Trends pattern\n",
    "###Increased interest before/after/during\n",
    "###sustained interest sustained increased interest?\n",
    "###Magnitude\n",
    "###Rate of change\n",
    "#*9:Z News volatility (maybe find a relationship between this and company size)\n",
    "#10:Z Stock Price Volatility\n",
    "#10:T Duration: when do prices stabilize?\n",
    "\n",
    "#Defining jump: like RObot Broker Program, but with variable x time and variable percentage p\n",
    "#get rid of redundancy and characterize different types of movement"
   ]
  },
  {
   "cell_type": "markdown",
   "metadata": {},
   "source": [
    "## Companies we had in mind:"
   ]
  },
  {
   "cell_type": "markdown",
   "metadata": {
    "collapsed": true
   },
   "source": [
    "Dryships\n",
    "<img src='DRYS.png'>\n",
    "(Source: Yahoo Finance)"
   ]
  },
  {
   "cell_type": "markdown",
   "metadata": {},
   "source": [
    "Semi-LED Corp\n",
    "<img src='DRYS.png'>\n",
    "(Source: Yahoo Finance)"
   ]
  },
  {
   "cell_type": "markdown",
   "metadata": {},
   "source": [
    "Chipotle\n",
    "<img src='CMG.png'>\n",
    "(Source: Yahoo Finance)"
   ]
  },
  {
   "cell_type": "code",
   "execution_count": 4,
   "metadata": {
    "collapsed": true
   },
   "outputs": [],
   "source": [
    "#read in the csv with the russell 3000 stock data and Wilshire 5000 stock data (Just a dataframe of symbols for now)\n",
    "#Commented out since the repository now contains this csv\n",
    "\n",
    "#dfRussell=pd.read_csv('russell_3000_2011-06-27.csv')\n",
    "#dfWilshire=pd.read_csv('wilshire5000.csv')"
   ]
  },
  {
   "cell_type": "code",
   "execution_count": 5,
   "metadata": {
    "collapsed": false
   },
   "outputs": [],
   "source": [
    "#Taking the values from the dataframes and making them into arrays\n",
    "#Commented out since the repository now contains this csv\n",
    "\n",
    "#arrayRussell=dfRussell.values.flatten()\n",
    "#arrayWilshire=dfWilshire.values.flatten()"
   ]
  },
  {
   "cell_type": "code",
   "execution_count": 9,
   "metadata": {
    "collapsed": false,
    "scrolled": true
   },
   "outputs": [],
   "source": [
    "#Make the dataframe with the adjusted close prices for all of the Wilshire 5000 Companies\n",
    "#Commented out since the repository now contains this csv\n",
    "\n",
    "#ls_key = 'Adj Close'\n",
    "#start = datetime.datetime(2004,1,1)\n",
    "#end = datetime.datetime(2016,12,31)\n",
    "#f = data.DataReader(arrayWilshire[:], 'yahoo',start,end)\n",
    "\n",
    "#cleanData = f.ix[ls_key]\n",
    "#dataFrame = pd.DataFrame(cleanData)\n",
    "\n",
    "#print dataFrame[:]"
   ]
  },
  {
   "cell_type": "code",
   "execution_count": 7,
   "metadata": {
    "collapsed": true
   },
   "outputs": [],
   "source": [
    "#Make the dataframe into a csv for turning into more meaningful data on 'jumps'\n",
    "#Commented out since the repository now contains this csv\n",
    "\n",
    "#dataFrame.to_csv('WilshireHist')"
   ]
  },
  {
   "cell_type": "code",
   "execution_count": 16,
   "metadata": {
    "collapsed": false
   },
   "outputs": [],
   "source": [
    "yahoo=Share('YHOO')"
   ]
  },
  {
   "cell_type": "code",
   "execution_count": 18,
   "metadata": {
    "collapsed": false
   },
   "outputs": [
    {
     "data": {
      "text/plain": [
       "u'42.58B'"
      ]
     },
     "execution_count": 18,
     "metadata": {},
     "output_type": "execute_result"
    }
   ],
   "source": [
    "yahoo.get_market_cap()"
   ]
  },
  {
   "cell_type": "markdown",
   "metadata": {},
   "source": [
    "# Land of Forgotten Code"
   ]
  },
  {
   "cell_type": "code",
   "execution_count": 8,
   "metadata": {
    "collapsed": true
   },
   "outputs": [],
   "source": [
    "#start=datetime.datetime(2013,1,1)\n",
    "#end=datetime.datetime(2017,1,1)\n",
    "#df = data.DataReader(arrayWilshire[0:4], 'yahoo', start, end) \n",
    "#print df\n",
    "#dates =[]\n",
    "#for x in range(len(df)):\n",
    "#    newdate = str(df.index[x])\n",
    "#    newdate = newdate[0:10]\n",
    "#    dates.append(newdate)\n",
    "\n",
    "#df['dates'] = dates\n",
    "\n",
    "#print df.head()\n",
    "#print df.tail()"
   ]
  },
  {
   "cell_type": "code",
   "execution_count": null,
   "metadata": {
    "collapsed": true
   },
   "outputs": [],
   "source": [
    "#yahoo=Share('YHOO')\n",
    "#print yahoo\n",
    "#yahoo.get_price()\n",
    "\n",
    "#stocklist = ['aapl','goog','fb','amzn','COP']\n",
    "\n",
    "#http://www.jarloo.com/yahoo_finance/\n",
    "#https://greenido.wordpress.com/2009/12/22/yahoo-finance-hidden-api/\n",
    "#_yahoo_codes.update({'Market Cap': 'j1'})\n",
    "#_yahoo_codes.update({'Div Yield': 'y'})\n",
    "#_yahoo_codes.update({'Bid': 'b'})\n",
    "#_yahoo_codes.update({'Ask': 'a'})\n",
    "#_yahoo_codes.update({'Prev Close': 'p'})\n",
    "#_yahoo_codes.update({'Open': 'o'})\n",
    "#_yahoo_codes.update({'1 yr Target Price': 't8'})\n",
    "#_yahoo_codes.update({'Earnings/Share': 'e'})\n",
    "#_yahoo_codes.update({\"Day’s Range\": 'm'})\n",
    "#_yahoo_codes.update({'52-week Range': 'w'})\n",
    "#_yahoo_codes.update({'Volume': 'v'})\n",
    "#_yahoo_codes.update({'Avg Daily Volume': 'a2'})\n",
    "#_yahoo_codes.update({'EPS Est Current Year': 'e7'})\n",
    "#_yahoo_codes.update({'EPS Est Next Quarter': 'e9'})\n",
    "\n",
    "#data.get_quote_yahoo(stocklist).to_csv('test.csv', index=False, quoting=csv.QUOTE_NONNUMERIC)\n",
    "\n",
    "#data.get_quote_yahoo(stocklist).transpose()"
   ]
  }
 ],
 "metadata": {
  "anaconda-cloud": {},
  "kernelspec": {
   "display_name": "Python [default]",
   "language": "python",
   "name": "python2"
  },
  "language_info": {
   "codemirror_mode": {
    "name": "ipython",
    "version": 2
   },
   "file_extension": ".py",
   "mimetype": "text/x-python",
   "name": "python",
   "nbconvert_exporter": "python",
   "pygments_lexer": "ipython2",
   "version": "2.7.12"
  }
 },
 "nbformat": 4,
 "nbformat_minor": 1
}
